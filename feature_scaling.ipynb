{
 "cells": [
  {
   "cell_type": "code",
   "execution_count": 1,
   "metadata": {},
   "outputs": [
    {
     "data": {
      "text/plain": [
       "array([504, 'Spain', 'Male', 34, 0, 54980.81, 1, 1, 1, 136909.88],\n",
       "      dtype=object)"
      ]
     },
     "execution_count": 1,
     "metadata": {},
     "output_type": "execute_result"
    }
   ],
   "source": [
    "# Feature/target selection\n",
    "\n",
    "import numpy as np\n",
    "import pandas as pd\n",
    "\n",
    "featureColumns = list(range(2,12))\n",
    "\n",
    "dataset = pd.read_csv(\"dataset.csv\")\n",
    "x = dataset.iloc[:,featureColumns].values\n",
    "y = dataset.iloc[:,-1].values\n",
    "\n",
    "x[0]"
   ]
  },
  {
   "cell_type": "code",
   "execution_count": 2,
   "metadata": {},
   "outputs": [
    {
     "data": {
      "text/plain": [
       "array([[504, 2, 1, 34, 0, 54980.81, 1, 1, 1, 136909.88],\n",
       "       [659, 0, 0, 33, 7, 89939.62, 1, 1, 0, 136540.09],\n",
       "       [473, 1, 0, 32, 5, 146602.25, 2, 1, 1, 72946.95],\n",
       "       [637, 2, 0, 40, 6, 0.0, 2, 1, 1, 181610.6],\n",
       "       [657, 2, 1, 75, 7, 126273.95, 1, 0, 1, 91673.6]], dtype=object)"
      ]
     },
     "execution_count": 2,
     "metadata": {},
     "output_type": "execute_result"
    }
   ],
   "source": [
    "# Label encoding\n",
    "\n",
    "from sklearn.preprocessing import LabelEncoder\n",
    "encodingColumns = [1,2]\n",
    "\n",
    "for ec in encodingColumns:\n",
    "    labelEncoderX = LabelEncoder()\n",
    "    x[:,ec] = labelEncoderX.fit_transform(x[:,ec])\n",
    "    \n",
    "x[0:5]"
   ]
  },
  {
   "cell_type": "code",
   "execution_count": 3,
   "metadata": {},
   "outputs": [
    {
     "data": {
      "text/plain": [
       "array([[0.0000000e+00, 0.0000000e+00, 1.0000000e+00, 0.0000000e+00,\n",
       "        1.0000000e+00, 5.0400000e+02, 3.4000000e+01, 0.0000000e+00,\n",
       "        5.4980810e+04, 1.0000000e+00, 1.0000000e+00, 1.0000000e+00,\n",
       "        1.3690988e+05],\n",
       "       [1.0000000e+00, 0.0000000e+00, 0.0000000e+00, 1.0000000e+00,\n",
       "        0.0000000e+00, 6.5900000e+02, 3.3000000e+01, 7.0000000e+00,\n",
       "        8.9939620e+04, 1.0000000e+00, 1.0000000e+00, 0.0000000e+00,\n",
       "        1.3654009e+05],\n",
       "       [0.0000000e+00, 1.0000000e+00, 0.0000000e+00, 1.0000000e+00,\n",
       "        0.0000000e+00, 4.7300000e+02, 3.2000000e+01, 5.0000000e+00,\n",
       "        1.4660225e+05, 2.0000000e+00, 1.0000000e+00, 1.0000000e+00,\n",
       "        7.2946950e+04],\n",
       "       [0.0000000e+00, 0.0000000e+00, 1.0000000e+00, 1.0000000e+00,\n",
       "        0.0000000e+00, 6.3700000e+02, 4.0000000e+01, 6.0000000e+00,\n",
       "        0.0000000e+00, 2.0000000e+00, 1.0000000e+00, 1.0000000e+00,\n",
       "        1.8161060e+05],\n",
       "       [0.0000000e+00, 0.0000000e+00, 1.0000000e+00, 0.0000000e+00,\n",
       "        1.0000000e+00, 6.5700000e+02, 7.5000000e+01, 7.0000000e+00,\n",
       "        1.2627395e+05, 1.0000000e+00, 0.0000000e+00, 1.0000000e+00,\n",
       "        9.1673600e+04]])"
      ]
     },
     "execution_count": 3,
     "metadata": {},
     "output_type": "execute_result"
    }
   ],
   "source": [
    "# One hot encoding\n",
    "\n",
    "from sklearn.preprocessing import OneHotEncoder\n",
    "\n",
    "oneHotEncoderX = OneHotEncoder(categorical_features=encodingColumns)\n",
    "x = oneHotEncoderX.fit_transform(x).toarray()\n",
    "\n",
    "x[0:5]"
   ]
  },
  {
   "cell_type": "code",
   "execution_count": 4,
   "metadata": {},
   "outputs": [
    {
     "data": {
      "text/plain": [
       "array([[0.0000000e+00, 1.0000000e+00, 1.0000000e+00, 5.0400000e+02,\n",
       "        3.4000000e+01, 0.0000000e+00, 5.4980810e+04, 1.0000000e+00,\n",
       "        1.0000000e+00, 1.0000000e+00, 1.3690988e+05],\n",
       "       [0.0000000e+00, 0.0000000e+00, 0.0000000e+00, 6.5900000e+02,\n",
       "        3.3000000e+01, 7.0000000e+00, 8.9939620e+04, 1.0000000e+00,\n",
       "        1.0000000e+00, 0.0000000e+00, 1.3654009e+05],\n",
       "       [1.0000000e+00, 0.0000000e+00, 0.0000000e+00, 4.7300000e+02,\n",
       "        3.2000000e+01, 5.0000000e+00, 1.4660225e+05, 2.0000000e+00,\n",
       "        1.0000000e+00, 1.0000000e+00, 7.2946950e+04],\n",
       "       [0.0000000e+00, 1.0000000e+00, 0.0000000e+00, 6.3700000e+02,\n",
       "        4.0000000e+01, 6.0000000e+00, 0.0000000e+00, 2.0000000e+00,\n",
       "        1.0000000e+00, 1.0000000e+00, 1.8161060e+05],\n",
       "       [0.0000000e+00, 1.0000000e+00, 1.0000000e+00, 6.5700000e+02,\n",
       "        7.5000000e+01, 7.0000000e+00, 1.2627395e+05, 1.0000000e+00,\n",
       "        0.0000000e+00, 1.0000000e+00, 9.1673600e+04]])"
      ]
     },
     "execution_count": 4,
     "metadata": {},
     "output_type": "execute_result"
    }
   ],
   "source": [
    "# Dummy variable trap recovery\n",
    "x = np.delete(x, [0,3], 1)\n",
    "\n",
    "x[0:5]"
   ]
  },
  {
   "cell_type": "code",
   "execution_count": 5,
   "metadata": {},
   "outputs": [
    {
     "data": {
      "text/plain": [
       "array([[0.0000000e+00, 0.0000000e+00, 0.0000000e+00, 5.9200000e+02,\n",
       "        6.6000000e+01, 5.0000000e+00, 1.4995019e+05, 1.0000000e+00,\n",
       "        1.0000000e+00, 1.0000000e+00, 7.6267590e+04],\n",
       "       [0.0000000e+00, 0.0000000e+00, 1.0000000e+00, 5.5400000e+02,\n",
       "        4.0000000e+01, 4.0000000e+00, 0.0000000e+00, 1.0000000e+00,\n",
       "        0.0000000e+00, 1.0000000e+00, 1.6878004e+05],\n",
       "       [0.0000000e+00, 0.0000000e+00, 0.0000000e+00, 6.8000000e+02,\n",
       "        2.5000000e+01, 4.0000000e+00, 1.2381650e+05, 1.0000000e+00,\n",
       "        1.0000000e+00, 1.0000000e+00, 9.0162350e+04],\n",
       "       [0.0000000e+00, 1.0000000e+00, 1.0000000e+00, 4.7900000e+02,\n",
       "        3.5000000e+01, 4.0000000e+00, 1.2592098e+05, 1.0000000e+00,\n",
       "        1.0000000e+00, 1.0000000e+00, 2.0393440e+04],\n",
       "       [0.0000000e+00, 0.0000000e+00, 0.0000000e+00, 5.8500000e+02,\n",
       "        3.5000000e+01, 2.0000000e+00, 0.0000000e+00, 2.0000000e+00,\n",
       "        1.0000000e+00, 0.0000000e+00, 9.8621040e+04]])"
      ]
     },
     "execution_count": 5,
     "metadata": {},
     "output_type": "execute_result"
    }
   ],
   "source": [
    "# Dataset split\n",
    "\n",
    "from sklearn.model_selection import train_test_split\n",
    "xTrain, xTest, yTrain, yTest = train_test_split(x,y,test_size=0.2,random_state=12345)\n",
    "\n",
    "xTrain[0:5]"
   ]
  },
  {
   "cell_type": "code",
   "execution_count": 8,
   "metadata": {},
   "outputs": [
    {
     "data": {
      "text/plain": [
       "array([[ 0.        ,  0.        ,  0.        , -0.60456728,  2.55988554,\n",
       "        -0.00462039,  1.17267897, -0.90802098,  0.6479493 ,  0.96881921,\n",
       "        -0.4184835 ],\n",
       "       [ 0.        ,  0.        ,  1.        , -0.99761731,  0.09332607,\n",
       "        -0.35114978, -1.23869855, -0.90802098, -1.54333063,  0.96881921,\n",
       "         1.18923506],\n",
       "       [ 0.        ,  0.        ,  0.        ,  0.30565387, -1.329689  ,\n",
       "        -0.35114978,  0.75241813, -0.90802098,  0.6479493 ,  0.96881921,\n",
       "        -0.17701477],\n",
       "       [ 0.        ,  1.        ,  1.        , -1.77337397, -0.38101229,\n",
       "        -0.35114978,  0.78626067, -0.90802098,  0.6479493 ,  0.96881921,\n",
       "        -1.38948695],\n",
       "       [ 0.        ,  0.        ,  0.        , -0.67697123, -0.38101229,\n",
       "        -1.04420856, -1.23869855,  0.81243982,  0.6479493 , -1.03218432,\n",
       "        -0.03001626]])"
      ]
     },
     "execution_count": 8,
     "metadata": {},
     "output_type": "execute_result"
    }
   ],
   "source": [
    "# Feature scaling (standardization)\n",
    "\n",
    "from sklearn.preprocessing import StandardScaler\n",
    "scalingColumns = list(range(3,11))\n",
    "scalerX = StandardScaler()\n",
    "xTrain[:,scalingColumns] = scalerX.fit_transform(xTrain[:,scalingColumns].astype(float))\n",
    "xTest[:,scalingColumns] = scalerX.transform(xTest[:,scalingColumns].astype(float))\n",
    "\n",
    "xTrain[0:5]"
   ]
  }
 ],
 "metadata": {
  "kernelspec": {
   "display_name": "Python 3",
   "language": "python",
   "name": "python3"
  },
  "language_info": {
   "codemirror_mode": {
    "name": "ipython",
    "version": 3
   },
   "file_extension": ".py",
   "mimetype": "text/x-python",
   "name": "python",
   "nbconvert_exporter": "python",
   "pygments_lexer": "ipython3",
   "version": "3.6.5"
  }
 },
 "nbformat": 4,
 "nbformat_minor": 2
}
